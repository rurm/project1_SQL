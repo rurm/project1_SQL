{
 "cells": [
  {
   "cell_type": "markdown",
   "metadata": {},
   "source": [
    "Подключение библиотеки"
   ]
  },
  {
   "cell_type": "code",
   "execution_count": 1,
   "metadata": {},
   "outputs": [
    {
     "ename": "ModuleNotFoundError",
     "evalue": "No module named 'psycopg2'",
     "output_type": "error",
     "traceback": [
      "\u001b[0;31m---------------------------------------------------------------------------\u001b[0m",
      "\u001b[0;31mModuleNotFoundError\u001b[0m                       Traceback (most recent call last)",
      "\u001b[0;32m<ipython-input-1-ed6665007a74>\u001b[0m in \u001b[0;36m<module>\u001b[0;34m()\u001b[0m\n\u001b[1;32m      2\u001b[0m \u001b[0;32mimport\u001b[0m \u001b[0mlogging\u001b[0m\u001b[0;34m\u001b[0m\u001b[0m\n\u001b[1;32m      3\u001b[0m \u001b[0;34m\u001b[0m\u001b[0m\n\u001b[0;32m----> 4\u001b[0;31m \u001b[0;32mimport\u001b[0m \u001b[0mpsycopg2\u001b[0m\u001b[0;34m\u001b[0m\u001b[0m\n\u001b[0m\u001b[1;32m      5\u001b[0m \u001b[0;32mimport\u001b[0m \u001b[0mpsycopg2\u001b[0m\u001b[0;34m.\u001b[0m\u001b[0mextensions\u001b[0m\u001b[0;34m\u001b[0m\u001b[0m\n\u001b[1;32m      6\u001b[0m \u001b[0;32mimport\u001b[0m \u001b[0mpandas\u001b[0m \u001b[0;32mas\u001b[0m \u001b[0mpd\u001b[0m\u001b[0;34m\u001b[0m\u001b[0m\n",
      "\u001b[0;31mModuleNotFoundError\u001b[0m: No module named 'psycopg2'"
     ]
    }
   ],
   "source": [
    "import os\n",
    "import logging\n",
    "\n",
    "import psycopg2\n",
    "import psycopg2.extensions\n",
    "import pandas as pd"
   ]
  },
  {
   "cell_type": "markdown",
   "metadata": {},
   "source": [
    "Подключение к БД"
   ]
  },
  {
   "cell_type": "code",
   "execution_count": 2,
   "metadata": {},
   "outputs": [],
   "source": [
    "params = {\n",
    "    \"host\": os.environ['POSGRES_HOST'],\n",
    "    \"port\": os.environ['POSGRES_PORT'],\n",
    "    \"user\": 'postgres'\n",
    "}\n",
    "conn = psycopg2.connect(**params)\n",
    "\n",
    "psycopg2.extensions.register_type(\n",
    "    psycopg2.extensions.UNICODE,\n",
    "    conn\n",
    ")\n",
    "conn.set_isolation_level(\n",
    "    psycopg2.extensions.ISOLATION_LEVEL_AUTOCOMMIT\n",
    ")\n",
    "cursor = conn.cursor()\n",
    "\n",
    "user_item_query_config = {\n",
    "    \"MIN_USERS_FOR_ITEM\": 10,\n",
    "    \"MIN_ITEMS_FOR_USER\": 3,\n",
    "    \"MAX_ITEMS_FOR_USER\": 50,\n",
    "    \"MAX_ROW_NUMBER\": 100000\n",
    "}"
   ]
  },
  {
   "cell_type": "markdown",
   "metadata": {},
   "source": [
    "Запрос 1:\n",
    "Составим ТОП-10 самых комерчески успешных фильмов."
   ]
  },
  {
   "cell_type": "code",
   "execution_count": 8,
   "metadata": {},
   "outputs": [],
   "source": [
    "sql_req1 = '''\n",
    "select title,\n",
    "       revenue-budget as NPV\n",
    "from movies order by 2 desc limit 10\n",
    "'''\n",
    "cursor.execute(sql_req1)\n",
    "conn.commit()\n",
    "pd.DataFrame(\n",
    "    [a for a in cursor.fetchall()],\n",
    "    columns=['title', 'NPV']).to_csv(os.environ['PANDAS_EXPORT_FOLDER'] + 'req1.csv')\n"
   ]
  },
  {
   "cell_type": "markdown",
   "metadata": {},
   "source": [
    "Запрос 2:\n",
    "ТОП-10 самых лучших фильмов по мнению пользователей."
   ]
  },
  {
   "cell_type": "code",
   "execution_count": 3,
   "metadata": {},
   "outputs": [],
   "source": [
    "sql_req2 = '''\n",
    "select movies.title,\n",
    "       round(100*av_mrk)/100 as mark\n",
    "from (select movieid,avg(rating) as av_mrk \n",
    "      from ratings group by movieid order by 1 desc) as sample\n",
    "left join  movies on movieid=id order by 2 desc limit 10\n",
    "'''\n",
    "cursor.execute(sql_req2)\n",
    "conn.commit()\n",
    "pd.DataFrame(\n",
    "    [a for a in cursor.fetchall()],\n",
    "    columns=['title', 'mark']).to_csv(os.environ['PANDAS_EXPORT_FOLDER'] + 'req2.csv')"
   ]
  },
  {
   "cell_type": "markdown",
   "metadata": {},
   "source": [
    "Запрос из представления 1:\n",
    "Определим \"попсовые\" фильмы, неплохо заработавшие на старте, но позже получившие низкие оценки пользователей"
   ]
  },
  {
   "cell_type": "code",
   "execution_count": 4,
   "metadata": {},
   "outputs": [],
   "source": [
    "sql_req4view1 = '''\n",
    "select movies.title,\n",
    "       round(100*av_mrk)/100 as mark,\n",
    "       revenue-budget as NPV\n",
    "from (select movieid,\n",
    "             avg(rating) as av_mrk \n",
    "      from ratings group by movieid order by 1 desc) as sample\n",
    "left join  movies on movieid=id where av_mrk<2 order by 3 desc limit 10\n",
    "'''\n",
    "cursor.execute(sql_req4view1)\n",
    "conn.commit()\n",
    "pd.DataFrame(\n",
    "    [a for a in cursor.fetchall()],\n",
    "    columns=['title','mark','NPV']).to_csv(os.environ['PANDAS_EXPORT_FOLDER'] + 'req4view1.csv')\n"
   ]
  },
  {
   "cell_type": "markdown",
   "metadata": {},
   "source": [
    "Запрос из представления 2:\n",
    "А теперь найдем 10 самых недооцененные при старте проката фильмов, т.е. тех которые при выпуске не набрали значительных кассовых сборов, однака, в последующем набрали популярность среди пользователей."
   ]
  },
  {
   "cell_type": "code",
   "execution_count": 5,
   "metadata": {},
   "outputs": [],
   "source": [
    "sql_req4view2 = '''\n",
    "select movies.title,\n",
    "       round(100*av_mrk)/100 as mark,\n",
    "       revenue-budget as NPV\n",
    "from (select movieid,\n",
    "             avg(rating) as av_mrk\n",
    "      from ratings group by movieid order by 1 desc) as sample\n",
    "left join  movies on movieid=id where av_mrk>4 order by 3 limit 10\n",
    "'''\n",
    "cursor.execute(sql_req4view2)\n",
    "conn.commit()\n",
    "pd.DataFrame(\n",
    "    [a for a in cursor.fetchall()],\n",
    "    columns=['title','mark','NPV']).to_csv(os.environ['PANDAS_EXPORT_FOLDER'] + 'req4view2.csv')"
   ]
  },
  {
   "cell_type": "markdown",
   "metadata": {},
   "source": [
    "Запрос 3:\n",
    "Посмотрим какие тэги у фильмов попавших в предыдущую выборку (в запрос из представления 2) (первые 10)."
   ]
  },
  {
   "cell_type": "code",
   "execution_count": 7,
   "metadata": {},
   "outputs": [],
   "source": [
    "sql_req3 = '''\n",
    "select title,\n",
    "       tags\n",
    "from (select movies.title,\n",
    "             round(100*av_mrk)/100 as mark,\n",
    "             revenue-budget as NPV,\n",
    "             movies.id\n",
    "      from (select movieid,\n",
    "                   avg(rating) as av_mrk\n",
    "            from ratings group by movieid order by 1 desc) as sample\n",
    "      left join  movies on movieid=id where av_mrk>4 order by 3 limit 10) as tab1\n",
    "left join keywords on tab1.id=keywords.id\n",
    "'''\n",
    "cursor.execute(sql_req3)\n",
    "conn.commit()\n",
    "pd.DataFrame(\n",
    "    [a for a in cursor.fetchall()],\n",
    "    columns=['title', 'tags']).to_csv(os.environ['PANDAS_EXPORT_FOLDER'] + 'req3.csv')\n"
   ]
  },
  {
   "cell_type": "markdown",
   "metadata": {},
   "source": [
    "Запрос 6:\n",
    "Cоздание таблицы нормированных значений бюджета и логарифма бюджета."
   ]
  },
  {
   "cell_type": "code",
   "execution_count": 6,
   "metadata": {},
   "outputs": [],
   "source": [
    "sql_req6 = '''\n",
    "select (CAST(budget AS float)-(select min(budget) from movies))/(select max(budget)-min(budget) from movies) as bg_norm,\n",
    "       (log(CAST(budget AS float))-(select min(log(budget) from movies))/(select max(log(budget))-min(log(budget)) from movies) as lg_bg_norm \n",
    "from movies order by 1\n",
    "'''\n",
    "cursor.execute(sql_req6)\n",
    "conn.commit()\n",
    "pd.DataFrame(\n",
    "    [a for a in cursor.fetchall()],\n",
    "    columns=['bg_norm', 'lg_bg_norm']).to_csv(os.environ['PANDAS_EXPORT_FOLDER'] + 'req6.csv')\n"
   ]
  },
  {
   "cell_type": "code",
   "execution_count": null,
   "metadata": {},
   "outputs": [],
   "source": []
  }
 ],
 "metadata": {
  "kernelspec": {
   "display_name": "Python 3",
   "language": "python",
   "name": "python3"
  },
  "language_info": {
   "codemirror_mode": {
    "name": "ipython",
    "version": 3
   },
   "file_extension": ".py",
   "mimetype": "text/x-python",
   "name": "python",
   "nbconvert_exporter": "python",
   "pygments_lexer": "ipython3",
   "version": "3.6.5"
  }
 },
 "nbformat": 4,
 "nbformat_minor": 2
}
