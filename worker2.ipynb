{
 "cells": [
  {
   "cell_type": "markdown",
   "metadata": {},
   "source": [
    "Подключение библиотеки"
   ]
  },
  {
   "cell_type": "code",
   "execution_count": 2,
   "metadata": {},
   "outputs": [
    {
     "ename": "ModuleNotFoundError",
     "evalue": "No module named 'psycopg2'",
     "output_type": "error",
     "traceback": [
      "\u001b[0;31m---------------------------------------------------------------------------\u001b[0m",
      "\u001b[0;31mModuleNotFoundError\u001b[0m                       Traceback (most recent call last)",
      "\u001b[0;32m<ipython-input-2-ed6665007a74>\u001b[0m in \u001b[0;36m<module>\u001b[0;34m()\u001b[0m\n\u001b[1;32m      2\u001b[0m \u001b[0;32mimport\u001b[0m \u001b[0mlogging\u001b[0m\u001b[0;34m\u001b[0m\u001b[0m\n\u001b[1;32m      3\u001b[0m \u001b[0;34m\u001b[0m\u001b[0m\n\u001b[0;32m----> 4\u001b[0;31m \u001b[0;32mimport\u001b[0m \u001b[0mpsycopg2\u001b[0m\u001b[0;34m\u001b[0m\u001b[0m\n\u001b[0m\u001b[1;32m      5\u001b[0m \u001b[0;32mimport\u001b[0m \u001b[0mpsycopg2\u001b[0m\u001b[0;34m.\u001b[0m\u001b[0mextensions\u001b[0m\u001b[0;34m\u001b[0m\u001b[0m\n\u001b[1;32m      6\u001b[0m \u001b[0;32mimport\u001b[0m \u001b[0mpandas\u001b[0m \u001b[0;32mas\u001b[0m \u001b[0mpd\u001b[0m\u001b[0;34m\u001b[0m\u001b[0m\n",
      "\u001b[0;31mModuleNotFoundError\u001b[0m: No module named 'psycopg2'"
     ]
    }
   ],
   "source": [
    "import os\n",
    "import logging\n",
    "\n",
    "import psycopg2\n",
    "import psycopg2.extensions\n",
    "import pandas as pd"
   ]
  },
  {
   "cell_type": "markdown",
   "metadata": {},
   "source": [
    "Подключение к БД"
   ]
  },
  {
   "cell_type": "code",
   "execution_count": 3,
   "metadata": {},
   "outputs": [
    {
     "ename": "KeyError",
     "evalue": "'POSGRES_HOST'",
     "output_type": "error",
     "traceback": [
      "\u001b[0;31m---------------------------------------------------------------------------\u001b[0m",
      "\u001b[0;31mKeyError\u001b[0m                                  Traceback (most recent call last)",
      "\u001b[0;32m<ipython-input-3-d068fa92a180>\u001b[0m in \u001b[0;36m<module>\u001b[0;34m()\u001b[0m\n\u001b[1;32m      1\u001b[0m params = {\n\u001b[0;32m----> 2\u001b[0;31m     \u001b[0;34m\"host\"\u001b[0m\u001b[0;34m:\u001b[0m \u001b[0mos\u001b[0m\u001b[0;34m.\u001b[0m\u001b[0menviron\u001b[0m\u001b[0;34m[\u001b[0m\u001b[0;34m'POSGRES_HOST'\u001b[0m\u001b[0;34m]\u001b[0m\u001b[0;34m,\u001b[0m\u001b[0;34m\u001b[0m\u001b[0m\n\u001b[0m\u001b[1;32m      3\u001b[0m     \u001b[0;34m\"port\"\u001b[0m\u001b[0;34m:\u001b[0m \u001b[0mos\u001b[0m\u001b[0;34m.\u001b[0m\u001b[0menviron\u001b[0m\u001b[0;34m[\u001b[0m\u001b[0;34m'POSGRES_PORT'\u001b[0m\u001b[0;34m]\u001b[0m\u001b[0;34m,\u001b[0m\u001b[0;34m\u001b[0m\u001b[0m\n\u001b[1;32m      4\u001b[0m     \u001b[0;34m\"user\"\u001b[0m\u001b[0;34m:\u001b[0m \u001b[0;34m'postgres'\u001b[0m\u001b[0;34m\u001b[0m\u001b[0m\n\u001b[1;32m      5\u001b[0m }\n",
      "\u001b[0;32m~/anaconda3/lib/python3.6/os.py\u001b[0m in \u001b[0;36m__getitem__\u001b[0;34m(self, key)\u001b[0m\n\u001b[1;32m    667\u001b[0m         \u001b[0;32mexcept\u001b[0m \u001b[0mKeyError\u001b[0m\u001b[0;34m:\u001b[0m\u001b[0;34m\u001b[0m\u001b[0m\n\u001b[1;32m    668\u001b[0m             \u001b[0;31m# raise KeyError with the original key value\u001b[0m\u001b[0;34m\u001b[0m\u001b[0;34m\u001b[0m\u001b[0m\n\u001b[0;32m--> 669\u001b[0;31m             \u001b[0;32mraise\u001b[0m \u001b[0mKeyError\u001b[0m\u001b[0;34m(\u001b[0m\u001b[0mkey\u001b[0m\u001b[0;34m)\u001b[0m \u001b[0;32mfrom\u001b[0m \u001b[0;32mNone\u001b[0m\u001b[0;34m\u001b[0m\u001b[0m\n\u001b[0m\u001b[1;32m    670\u001b[0m         \u001b[0;32mreturn\u001b[0m \u001b[0mself\u001b[0m\u001b[0;34m.\u001b[0m\u001b[0mdecodevalue\u001b[0m\u001b[0;34m(\u001b[0m\u001b[0mvalue\u001b[0m\u001b[0;34m)\u001b[0m\u001b[0;34m\u001b[0m\u001b[0m\n\u001b[1;32m    671\u001b[0m \u001b[0;34m\u001b[0m\u001b[0m\n",
      "\u001b[0;31mKeyError\u001b[0m: 'POSGRES_HOST'"
     ]
    }
   ],
   "source": [
    "params = {\n",
    "    \"host\": os.environ['POSGRES_HOST'],\n",
    "    \"port\": os.environ['POSGRES_PORT'],\n",
    "    \"user\": 'postgres'\n",
    "}\n",
    "conn = psycopg2.connect(**params)\n",
    "\n",
    "psycopg2.extensions.register_type(\n",
    "    psycopg2.extensions.UNICODE,\n",
    "    conn\n",
    ")\n",
    "conn.set_isolation_level(\n",
    "    psycopg2.extensions.ISOLATION_LEVEL_AUTOCOMMIT\n",
    ")\n",
    "cursor = conn.cursor()\n",
    "\n",
    "user_item_query_config = {\n",
    "    \"MIN_USERS_FOR_ITEM\": 10,\n",
    "    \"MIN_ITEMS_FOR_USER\": 3,\n",
    "    \"MAX_ITEMS_FOR_USER\": 50,\n",
    "    \"MAX_ROW_NUMBER\": 100000\n",
    "}"
   ]
  },
  {
   "cell_type": "markdown",
   "metadata": {},
   "source": [
    "Запрос 1:\n",
    "Составим ТОП-10 самых комерчески успешных фильмов."
   ]
  },
  {
   "cell_type": "code",
   "execution_count": 4,
   "metadata": {},
   "outputs": [
    {
     "ename": "NameError",
     "evalue": "name 'cursor' is not defined",
     "output_type": "error",
     "traceback": [
      "\u001b[0;31m---------------------------------------------------------------------------\u001b[0m",
      "\u001b[0;31mNameError\u001b[0m                                 Traceback (most recent call last)",
      "\u001b[0;32m<ipython-input-4-4bdd0e76f8fd>\u001b[0m in \u001b[0;36m<module>\u001b[0;34m()\u001b[0m\n\u001b[1;32m      4\u001b[0m \u001b[0;32mfrom\u001b[0m \u001b[0mmovies\u001b[0m \u001b[0morder\u001b[0m \u001b[0mby\u001b[0m \u001b[0;36m2\u001b[0m \u001b[0mdesc\u001b[0m \u001b[0mlimit\u001b[0m \u001b[0;36m10\u001b[0m\u001b[0;34m\u001b[0m\u001b[0m\n\u001b[1;32m      5\u001b[0m '''\n\u001b[0;32m----> 6\u001b[0;31m \u001b[0mcursor\u001b[0m\u001b[0;34m.\u001b[0m\u001b[0mexecute\u001b[0m\u001b[0;34m(\u001b[0m\u001b[0msql_req1\u001b[0m\u001b[0;34m)\u001b[0m\u001b[0;34m\u001b[0m\u001b[0m\n\u001b[0m\u001b[1;32m      7\u001b[0m \u001b[0mconn\u001b[0m\u001b[0;34m.\u001b[0m\u001b[0mcommit\u001b[0m\u001b[0;34m(\u001b[0m\u001b[0;34m)\u001b[0m\u001b[0;34m\u001b[0m\u001b[0m\n\u001b[1;32m      8\u001b[0m pd.DataFrame(\n",
      "\u001b[0;31mNameError\u001b[0m: name 'cursor' is not defined"
     ]
    }
   ],
   "source": [
    "sql_req1 = '''\n",
    "select title,\n",
    "       revenue-budget as NPV\n",
    "from movies order by 2 desc limit 10\n",
    "'''\n",
    "cursor.execute(sql_req1)\n",
    "conn.commit()\n",
    "pd.DataFrame(\n",
    "    [a for a in cursor.fetchall()],\n",
    "    columns=['title', 'NPV']).to_csv(os.environ['PANDAS_EXPORT_FOLDER'] + 'req1.csv')\n"
   ]
  },
  {
   "cell_type": "markdown",
   "metadata": {},
   "source": [
    "Запрос 2:\n",
    "ТОП-10 самых лучших фильмов по мнению пользователей."
   ]
  },
  {
   "cell_type": "code",
   "execution_count": 5,
   "metadata": {},
   "outputs": [
    {
     "ename": "NameError",
     "evalue": "name 'cursor' is not defined",
     "output_type": "error",
     "traceback": [
      "\u001b[0;31m---------------------------------------------------------------------------\u001b[0m",
      "\u001b[0;31mNameError\u001b[0m                                 Traceback (most recent call last)",
      "\u001b[0;32m<ipython-input-5-ef6930a1c3aa>\u001b[0m in \u001b[0;36m<module>\u001b[0;34m()\u001b[0m\n\u001b[1;32m      6\u001b[0m \u001b[0mleft\u001b[0m \u001b[0mjoin\u001b[0m  \u001b[0mmovies\u001b[0m \u001b[0mon\u001b[0m \u001b[0mmovieid\u001b[0m\u001b[0;34m=\u001b[0m\u001b[0mid\u001b[0m \u001b[0morder\u001b[0m \u001b[0mby\u001b[0m \u001b[0;36m2\u001b[0m \u001b[0mdesc\u001b[0m \u001b[0mlimit\u001b[0m \u001b[0;36m10\u001b[0m\u001b[0;34m\u001b[0m\u001b[0m\n\u001b[1;32m      7\u001b[0m '''\n\u001b[0;32m----> 8\u001b[0;31m \u001b[0mcursor\u001b[0m\u001b[0;34m.\u001b[0m\u001b[0mexecute\u001b[0m\u001b[0;34m(\u001b[0m\u001b[0msql_req2\u001b[0m\u001b[0;34m)\u001b[0m\u001b[0;34m\u001b[0m\u001b[0m\n\u001b[0m\u001b[1;32m      9\u001b[0m \u001b[0mconn\u001b[0m\u001b[0;34m.\u001b[0m\u001b[0mcommit\u001b[0m\u001b[0;34m(\u001b[0m\u001b[0;34m)\u001b[0m\u001b[0;34m\u001b[0m\u001b[0m\n\u001b[1;32m     10\u001b[0m pd.DataFrame(\n",
      "\u001b[0;31mNameError\u001b[0m: name 'cursor' is not defined"
     ]
    }
   ],
   "source": [
    "sql_req2 = '''\n",
    "select movies.title,\n",
    "       round(100*av_mrk)/100 as mark\n",
    "from (select movieid,avg(rating) as av_mrk \n",
    "      from ratings group by movieid order by 1 desc) as sample\n",
    "left join  movies on movieid=id order by 2 desc limit 10\n",
    "'''\n",
    "cursor.execute(sql_req2)\n",
    "conn.commit()\n",
    "pd.DataFrame(\n",
    "    [a for a in cursor.fetchall()],\n",
    "    columns=['title', 'mark']).to_csv(os.environ['PANDAS_EXPORT_FOLDER'] + 'req2.csv')"
   ]
  },
  {
   "cell_type": "markdown",
   "metadata": {},
   "source": [
    "Запрос из представления 1:\n",
    "Определим \"попсовые\" фильмы, неплохо заработавшие на старте, но позже получившие низкие оценки пользователей"
   ]
  },
  {
   "cell_type": "code",
   "execution_count": 6,
   "metadata": {},
   "outputs": [
    {
     "ename": "NameError",
     "evalue": "name 'cursor' is not defined",
     "output_type": "error",
     "traceback": [
      "\u001b[0;31m---------------------------------------------------------------------------\u001b[0m",
      "\u001b[0;31mNameError\u001b[0m                                 Traceback (most recent call last)",
      "\u001b[0;32m<ipython-input-6-93f4df678be7>\u001b[0m in \u001b[0;36m<module>\u001b[0;34m()\u001b[0m\n\u001b[1;32m      8\u001b[0m \u001b[0mleft\u001b[0m \u001b[0mjoin\u001b[0m  \u001b[0mmovies\u001b[0m \u001b[0mon\u001b[0m \u001b[0mmovieid\u001b[0m\u001b[0;34m=\u001b[0m\u001b[0mid\u001b[0m \u001b[0mwhere\u001b[0m \u001b[0mav_mrk\u001b[0m\u001b[0;34m<\u001b[0m\u001b[0;36m2\u001b[0m \u001b[0morder\u001b[0m \u001b[0mby\u001b[0m \u001b[0;36m3\u001b[0m \u001b[0mdesc\u001b[0m \u001b[0mlimit\u001b[0m \u001b[0;36m10\u001b[0m\u001b[0;34m\u001b[0m\u001b[0m\n\u001b[1;32m      9\u001b[0m '''\n\u001b[0;32m---> 10\u001b[0;31m \u001b[0mcursor\u001b[0m\u001b[0;34m.\u001b[0m\u001b[0mexecute\u001b[0m\u001b[0;34m(\u001b[0m\u001b[0msql_req4view1\u001b[0m\u001b[0;34m)\u001b[0m\u001b[0;34m\u001b[0m\u001b[0m\n\u001b[0m\u001b[1;32m     11\u001b[0m \u001b[0mconn\u001b[0m\u001b[0;34m.\u001b[0m\u001b[0mcommit\u001b[0m\u001b[0;34m(\u001b[0m\u001b[0;34m)\u001b[0m\u001b[0;34m\u001b[0m\u001b[0m\n\u001b[1;32m     12\u001b[0m pd.DataFrame(\n",
      "\u001b[0;31mNameError\u001b[0m: name 'cursor' is not defined"
     ]
    }
   ],
   "source": [
    "sql_req4view1 = '''\n",
    "select movies.title,\n",
    "       round(100*av_mrk)/100 as mark,\n",
    "       revenue-budget as NPV\n",
    "from (select movieid,\n",
    "             avg(rating) as av_mrk \n",
    "      from ratings group by movieid order by 1 desc) as sample\n",
    "left join  movies on movieid=id where av_mrk<2 order by 3 desc limit 10\n",
    "'''\n",
    "cursor.execute(sql_req4view1)\n",
    "conn.commit()\n",
    "pd.DataFrame(\n",
    "    [a for a in cursor.fetchall()],\n",
    "    columns=['title','mark','NPV']).to_csv(os.environ['PANDAS_EXPORT_FOLDER'] + 'req4view1.csv')\n"
   ]
  },
  {
   "cell_type": "markdown",
   "metadata": {},
   "source": [
    "Запрос из представления 2:\n",
    "А теперь найдем 10 самых недооцененные при старте проката фильмов, т.е. тех которые при выпуске не набрали значительных кассовых сборов, однака, в последующем набрали популярность среди пользователей."
   ]
  },
  {
   "cell_type": "code",
   "execution_count": 7,
   "metadata": {},
   "outputs": [
    {
     "ename": "NameError",
     "evalue": "name 'cursor' is not defined",
     "output_type": "error",
     "traceback": [
      "\u001b[0;31m---------------------------------------------------------------------------\u001b[0m",
      "\u001b[0;31mNameError\u001b[0m                                 Traceback (most recent call last)",
      "\u001b[0;32m<ipython-input-7-2cb0aa1c54d8>\u001b[0m in \u001b[0;36m<module>\u001b[0;34m()\u001b[0m\n\u001b[1;32m      8\u001b[0m \u001b[0mleft\u001b[0m \u001b[0mjoin\u001b[0m  \u001b[0mmovies\u001b[0m \u001b[0mon\u001b[0m \u001b[0mmovieid\u001b[0m\u001b[0;34m=\u001b[0m\u001b[0mid\u001b[0m \u001b[0mwhere\u001b[0m \u001b[0mav_mrk\u001b[0m\u001b[0;34m>\u001b[0m\u001b[0;36m4\u001b[0m \u001b[0morder\u001b[0m \u001b[0mby\u001b[0m \u001b[0;36m3\u001b[0m \u001b[0mlimit\u001b[0m \u001b[0;36m10\u001b[0m\u001b[0;34m\u001b[0m\u001b[0m\n\u001b[1;32m      9\u001b[0m '''\n\u001b[0;32m---> 10\u001b[0;31m \u001b[0mcursor\u001b[0m\u001b[0;34m.\u001b[0m\u001b[0mexecute\u001b[0m\u001b[0;34m(\u001b[0m\u001b[0msql_req4view2\u001b[0m\u001b[0;34m)\u001b[0m\u001b[0;34m\u001b[0m\u001b[0m\n\u001b[0m\u001b[1;32m     11\u001b[0m \u001b[0mconn\u001b[0m\u001b[0;34m.\u001b[0m\u001b[0mcommit\u001b[0m\u001b[0;34m(\u001b[0m\u001b[0;34m)\u001b[0m\u001b[0;34m\u001b[0m\u001b[0m\n\u001b[1;32m     12\u001b[0m pd.DataFrame(\n",
      "\u001b[0;31mNameError\u001b[0m: name 'cursor' is not defined"
     ]
    }
   ],
   "source": [
    "sql_req4view2 = '''\n",
    "select movies.title,\n",
    "       round(100*av_mrk)/100 as mark,\n",
    "       revenue-budget as NPV\n",
    "from (select movieid,\n",
    "             avg(rating) as av_mrk\n",
    "      from ratings group by movieid order by 1 desc) as sample\n",
    "left join  movies on movieid=id where av_mrk>4 order by 3 limit 10\n",
    "'''\n",
    "cursor.execute(sql_req4view2)\n",
    "conn.commit()\n",
    "pd.DataFrame(\n",
    "    [a for a in cursor.fetchall()],\n",
    "    columns=['title','mark','NPV']).to_csv(os.environ['PANDAS_EXPORT_FOLDER'] + 'req4view2.csv')"
   ]
  },
  {
   "cell_type": "markdown",
   "metadata": {},
   "source": [
    "Запрос 3:\n",
    "Посмотрим какие тэги у фильмов попавших в предыдущую выборку (в запрос из представления 2) (первые 10)."
   ]
  },
  {
   "cell_type": "code",
   "execution_count": 8,
   "metadata": {},
   "outputs": [
    {
     "ename": "NameError",
     "evalue": "name 'cursor' is not defined",
     "output_type": "error",
     "traceback": [
      "\u001b[0;31m---------------------------------------------------------------------------\u001b[0m",
      "\u001b[0;31mNameError\u001b[0m                                 Traceback (most recent call last)",
      "\u001b[0;32m<ipython-input-8-56cce8d0a8c4>\u001b[0m in \u001b[0;36m<module>\u001b[0;34m()\u001b[0m\n\u001b[1;32m     12\u001b[0m \u001b[0mleft\u001b[0m \u001b[0mjoin\u001b[0m \u001b[0mkeywords\u001b[0m \u001b[0mon\u001b[0m \u001b[0mtab1\u001b[0m\u001b[0;34m.\u001b[0m\u001b[0mid\u001b[0m\u001b[0;34m=\u001b[0m\u001b[0mkeywords\u001b[0m\u001b[0;34m.\u001b[0m\u001b[0mid\u001b[0m\u001b[0;34m\u001b[0m\u001b[0m\n\u001b[1;32m     13\u001b[0m '''\n\u001b[0;32m---> 14\u001b[0;31m \u001b[0mcursor\u001b[0m\u001b[0;34m.\u001b[0m\u001b[0mexecute\u001b[0m\u001b[0;34m(\u001b[0m\u001b[0msql_req3\u001b[0m\u001b[0;34m)\u001b[0m\u001b[0;34m\u001b[0m\u001b[0m\n\u001b[0m\u001b[1;32m     15\u001b[0m \u001b[0mconn\u001b[0m\u001b[0;34m.\u001b[0m\u001b[0mcommit\u001b[0m\u001b[0;34m(\u001b[0m\u001b[0;34m)\u001b[0m\u001b[0;34m\u001b[0m\u001b[0m\n\u001b[1;32m     16\u001b[0m pd.DataFrame(\n",
      "\u001b[0;31mNameError\u001b[0m: name 'cursor' is not defined"
     ]
    }
   ],
   "source": [
    "sql_req3 = '''\n",
    "select title,\n",
    "       tags\n",
    "from (select movies.title,\n",
    "             round(100*av_mrk)/100 as mark,\n",
    "             revenue-budget as NPV,\n",
    "             movies.id\n",
    "      from (select movieid,\n",
    "                   avg(rating) as av_mrk\n",
    "            from ratings group by movieid order by 1 desc) as sample\n",
    "      left join  movies on movieid=id where av_mrk>4 order by 3 limit 10) as tab1\n",
    "left join keywords on tab1.id=keywords.id\n",
    "'''\n",
    "cursor.execute(sql_req3)\n",
    "conn.commit()\n",
    "pd.DataFrame(\n",
    "    [a for a in cursor.fetchall()],\n",
    "    columns=['title', 'tags']).to_csv(os.environ['PANDAS_EXPORT_FOLDER'] + 'req3.csv')\n"
   ]
  },
  {
   "cell_type": "markdown",
   "metadata": {},
   "source": [
    "Запрос 6:\n",
    "Cоздание таблицы нормированных значений бюджета и логарифма бюджета."
   ]
  },
  {
   "cell_type": "code",
   "execution_count": 9,
   "metadata": {},
   "outputs": [
    {
     "ename": "NameError",
     "evalue": "name 'cursor' is not defined",
     "output_type": "error",
     "traceback": [
      "\u001b[0;31m---------------------------------------------------------------------------\u001b[0m",
      "\u001b[0;31mNameError\u001b[0m                                 Traceback (most recent call last)",
      "\u001b[0;32m<ipython-input-9-2a73f7f5e4d7>\u001b[0m in \u001b[0;36m<module>\u001b[0;34m()\u001b[0m\n\u001b[1;32m      4\u001b[0m \u001b[0;32mfrom\u001b[0m \u001b[0mmovies\u001b[0m \u001b[0morder\u001b[0m \u001b[0mby\u001b[0m \u001b[0;36m1\u001b[0m\u001b[0;34m\u001b[0m\u001b[0m\n\u001b[1;32m      5\u001b[0m '''\n\u001b[0;32m----> 6\u001b[0;31m \u001b[0mcursor\u001b[0m\u001b[0;34m.\u001b[0m\u001b[0mexecute\u001b[0m\u001b[0;34m(\u001b[0m\u001b[0msql_req6\u001b[0m\u001b[0;34m)\u001b[0m\u001b[0;34m\u001b[0m\u001b[0m\n\u001b[0m\u001b[1;32m      7\u001b[0m \u001b[0mconn\u001b[0m\u001b[0;34m.\u001b[0m\u001b[0mcommit\u001b[0m\u001b[0;34m(\u001b[0m\u001b[0;34m)\u001b[0m\u001b[0;34m\u001b[0m\u001b[0m\n\u001b[1;32m      8\u001b[0m pd.DataFrame(\n",
      "\u001b[0;31mNameError\u001b[0m: name 'cursor' is not defined"
     ]
    }
   ],
   "source": [
    "sql_req6 = '''\n",
    "select (CAST(budget AS float)-(select min(budget) from movies))/(select max(budget)-min(budget) from movies) as bg_norm,\n",
    "       (log(CAST(budget AS float))-(select min(log(budget) from movies))/(select max(log(budget))-min(log(budget)) from movies) as lg_bg_norm \n",
    "from movies order by 1\n",
    "'''\n",
    "cursor.execute(sql_req6)\n",
    "conn.commit()\n",
    "pd.DataFrame(\n",
    "    [a for a in cursor.fetchall()],\n",
    "    columns=['bg_norm', 'lg_bg_norm']).to_csv(os.environ['PANDAS_EXPORT_FOLDER'] + 'req6.csv')\n"
   ]
  },
  {
   "cell_type": "code",
   "execution_count": null,
   "metadata": {},
   "outputs": [],
   "source": []
  },
  {
   "cell_type": "code",
   "execution_count": null,
   "metadata": {},
   "outputs": [],
   "source": []
  },
  {
   "cell_type": "code",
   "execution_count": null,
   "metadata": {},
   "outputs": [],
   "source": []
  }
 ],
 "metadata": {
  "kernelspec": {
   "display_name": "Python 3",
   "language": "python",
   "name": "python3"
  },
  "language_info": {
   "codemirror_mode": {
    "name": "ipython",
    "version": 3
   },
   "file_extension": ".py",
   "mimetype": "text/x-python",
   "name": "python",
   "nbconvert_exporter": "python",
   "pygments_lexer": "ipython3",
   "version": "3.6.5"
  }
 },
 "nbformat": 4,
 "nbformat_minor": 2
}
